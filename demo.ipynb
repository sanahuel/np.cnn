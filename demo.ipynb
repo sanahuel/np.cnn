{
 "cells": [
  {
   "cell_type": "markdown",
   "metadata": {},
   "source": [
    "## NN on MNIST"
   ]
  },
  {
   "cell_type": "markdown",
   "metadata": {},
   "source": [
    "## Import data"
   ]
  },
  {
   "cell_type": "code",
   "execution_count": 1,
   "metadata": {},
   "outputs": [],
   "source": [
    "from sklearn.datasets import load_digits\n",
    "from sklearn.model_selection import train_test_split\n",
    "import numpy as np\n",
    "\n",
    "X,Y = load_digits(return_X_y=True)\n",
    "\n",
    "# one hot encoding Y\n",
    "Y_2 = []\n",
    "for idx, y in enumerate(Y):\n",
    "    if y == 0:\n",
    "        Y_2.append(np.array([1,0,0,0,0,0,0,0,0,0]))\n",
    "    elif y == 1:\n",
    "        Y_2.append(np.array([0,1,0,0,0,0,0,0,0,0]))\n",
    "    elif y == 2:\n",
    "        Y_2.append(np.array([0,0,1,0,0,0,0,0,0,0]))\n",
    "    elif y == 3:\n",
    "        Y_2.append(np.array([0,0,0,1,0,0,0,0,0,0]))\n",
    "    elif y == 4:\n",
    "        Y_2.append(np.array([0,0,0,0,1,0,0,0,0,0]))\n",
    "    elif y == 5:\n",
    "        Y_2.append(np.array([0,0,0,0,0,1,0,0,0,0]))\n",
    "    elif y == 6:\n",
    "        Y_2.append(np.array([0,0,0,0,0,0,1,0,0,0]))\n",
    "    elif y == 7:\n",
    "        Y_2.append(np.array([0,0,0,0,0,0,0,1,0,0]))\n",
    "    elif y == 8:\n",
    "        Y_2.append(np.array([0,0,0,0,0,0,0,0,1,0]))\n",
    "    elif y == 9:\n",
    "        Y_2.append(np.array([0,0,0,0,0,0,0,0,0,1]))\n",
    "\n",
    "\n",
    "# reshape to np arrays\n",
    "X = np.reshape(X,(len(X),64,1))\n",
    "Y = np.reshape(Y_2,(len(Y_2),10,1))\n",
    "\n",
    "Xtrain, Xtest, Ytrain, Ytest = train_test_split(X,Y, test_size=0.2)"
   ]
  },
  {
   "cell_type": "markdown",
   "metadata": {},
   "source": [
    "## Train"
   ]
  },
  {
   "cell_type": "code",
   "execution_count": 3,
   "metadata": {},
   "outputs": [
    {
     "name": "stdout",
     "output_type": "stream",
     "text": [
      "Training for 50 epochs...\n",
      "Epoch 0 accuracy:  14.335%\n",
      "Epoch 1 accuracy:  27.349%\n",
      "Epoch 2 accuracy:  32.498%\n",
      "Epoch 3 accuracy:  36.743%\n",
      "Epoch 4 accuracy:  41.962%\n",
      "Epoch 5 accuracy:  50.313%\n",
      "Epoch 6 accuracy:  55.811%\n",
      "Epoch 7 accuracy:  58.733%\n",
      "Epoch 8 accuracy:  61.517%\n",
      "Epoch 9 accuracy:  63.326%\n",
      "Epoch 10 accuracy:  64.301%\n",
      "Epoch 11 accuracy:  65.136%\n",
      "Epoch 12 accuracy:  65.832%\n",
      "Epoch 13 accuracy:  65.762%\n",
      "Epoch 14 accuracy:  67.223%\n",
      "Epoch 15 accuracy:  70.146%\n",
      "Epoch 16 accuracy:  72.095%\n",
      "Epoch 17 accuracy:  73.069%\n",
      "Epoch 18 accuracy:  74.252%\n",
      "Epoch 19 accuracy:  75.017%\n",
      "Epoch 20 accuracy:  75.157%\n",
      "Epoch 21 accuracy:  76.896%\n",
      "Epoch 22 accuracy:  79.749%\n",
      "Epoch 23 accuracy:  82.185%\n",
      "Epoch 24 accuracy:  84.273%\n",
      "Epoch 25 accuracy:  86.013%\n",
      "Epoch 26 accuracy:  87.335%\n",
      "Epoch 27 accuracy:  88.170%\n",
      "Epoch 28 accuracy:  88.518%\n",
      "Epoch 29 accuracy:  89.144%\n",
      "Epoch 30 accuracy:  89.701%\n",
      "Epoch 31 accuracy:  89.979%\n",
      "Epoch 32 accuracy:  89.979%\n",
      "Epoch 33 accuracy:  90.466%\n",
      "Epoch 34 accuracy:  90.953%\n",
      "Epoch 35 accuracy:  90.884%\n",
      "Epoch 36 accuracy:  91.162%\n",
      "Epoch 37 accuracy:  91.510%\n",
      "Epoch 38 accuracy:  91.788%\n",
      "Epoch 39 accuracy:  92.206%\n",
      "Epoch 40 accuracy:  92.693%\n",
      "Epoch 41 accuracy:  93.180%\n",
      "Epoch 42 accuracy:  93.319%\n",
      "Epoch 43 accuracy:  93.737%\n",
      "Epoch 44 accuracy:  93.876%\n",
      "Epoch 45 accuracy:  94.015%\n",
      "Epoch 46 accuracy:  94.085%\n",
      "Epoch 47 accuracy:  94.502%\n",
      "Epoch 48 accuracy:  94.502%\n",
      "Epoch 49 accuracy:  94.781%\n"
     ]
    }
   ],
   "source": [
    "from cnn.model import NN\n",
    "\n",
    "nn = NN(layers=[64, 128, 64, 32, 10], function='relu')\n",
    "nn.train(Xtrain, Ytrain, epochs=50, lr=0.0001)"
   ]
  },
  {
   "cell_type": "code",
   "execution_count": 4,
   "metadata": {},
   "outputs": [
    {
     "name": "stdout",
     "output_type": "stream",
     "text": [
      "Test accuracy:  92.500%\n"
     ]
    }
   ],
   "source": [
    "nn.test(Xtest, Ytest)"
   ]
  },
  {
   "cell_type": "markdown",
   "metadata": {},
   "source": [
    "## CNN on MSNIST"
   ]
  },
  {
   "cell_type": "markdown",
   "metadata": {},
   "source": [
    "## Import data"
   ]
  },
  {
   "cell_type": "code",
   "execution_count": 5,
   "metadata": {},
   "outputs": [],
   "source": [
    "from sklearn.datasets import load_digits\n",
    "from sklearn.model_selection import train_test_split\n",
    "import numpy as np\n",
    "\n",
    "X,Y = load_digits(return_X_y=True)\n",
    "\n",
    "# one hot encoding Y\n",
    "Y_2 = []\n",
    "for idx, y in enumerate(Y):\n",
    "    if y == 0:\n",
    "        Y_2.append(np.array([1,0,0,0,0,0,0,0,0,0]))\n",
    "    elif y == 1:\n",
    "        Y_2.append(np.array([0,1,0,0,0,0,0,0,0,0]))\n",
    "    elif y == 2:\n",
    "        Y_2.append(np.array([0,0,1,0,0,0,0,0,0,0]))\n",
    "    elif y == 3:\n",
    "        Y_2.append(np.array([0,0,0,1,0,0,0,0,0,0]))\n",
    "    elif y == 4:\n",
    "        Y_2.append(np.array([0,0,0,0,1,0,0,0,0,0]))\n",
    "    elif y == 5:\n",
    "        Y_2.append(np.array([0,0,0,0,0,1,0,0,0,0]))\n",
    "    elif y == 6:\n",
    "        Y_2.append(np.array([0,0,0,0,0,0,1,0,0,0]))\n",
    "    elif y == 7:\n",
    "        Y_2.append(np.array([0,0,0,0,0,0,0,1,0,0]))\n",
    "    elif y == 8:\n",
    "        Y_2.append(np.array([0,0,0,0,0,0,0,0,1,0]))\n",
    "    elif y == 9:\n",
    "        Y_2.append(np.array([0,0,0,0,0,0,0,0,0,1]))\n",
    "\n",
    "X = np.reshape(X,(len(X), 1, 8, 8))\n",
    "Y = np.reshape(Y_2,(len(Y_2),10,1))\n",
    "\n",
    "Xtrain, Xtest, Ytrain, Ytest = train_test_split(X,Y, test_size=0.2)"
   ]
  },
  {
   "cell_type": "markdown",
   "metadata": {},
   "source": [
    "## Train"
   ]
  },
  {
   "cell_type": "code",
   "execution_count": 11,
   "metadata": {},
   "outputs": [
    {
     "name": "stdout",
     "output_type": "stream",
     "text": [
      "Training for 25 epochs...\n",
      "Epoch 0 accuracy:  29.645%\n",
      "Epoch 1 accuracy:  49.478%\n",
      "Epoch 2 accuracy:  69.102%\n",
      "Epoch 3 accuracy:  84.412%\n",
      "Epoch 4 accuracy:  89.770%\n",
      "Epoch 5 accuracy:  92.206%\n",
      "Epoch 6 accuracy:  93.180%\n",
      "Epoch 7 accuracy:  94.433%\n",
      "Epoch 8 accuracy:  94.990%\n",
      "Epoch 9 accuracy:  95.685%\n",
      "Epoch 10 accuracy:  96.033%\n",
      "Epoch 11 accuracy:  96.451%\n",
      "Epoch 12 accuracy:  96.799%\n",
      "Epoch 13 accuracy:  97.077%\n",
      "Epoch 14 accuracy:  97.704%\n",
      "Epoch 15 accuracy:  97.843%\n",
      "Epoch 16 accuracy:  98.260%\n",
      "Epoch 17 accuracy:  98.399%\n",
      "Epoch 18 accuracy:  98.539%\n",
      "Epoch 19 accuracy:  98.747%\n",
      "Epoch 20 accuracy:  98.817%\n",
      "Epoch 21 accuracy:  98.817%\n",
      "Epoch 22 accuracy:  98.956%\n",
      "Epoch 23 accuracy:  98.539%\n",
      "Epoch 24 accuracy:  99.165%\n"
     ]
    }
   ],
   "source": [
    "from cnn.model import FCLayer, Flatten, ConvLayer, CNN\n",
    "\n",
    "cnn = CNN(\n",
    "    layers=[\n",
    "        ConvLayer(k_dim=3, padding=1, stride=1),\n",
    "        Flatten(),\n",
    "        FCLayer(n_input=64, n_output=128, activation='relu'),\n",
    "        FCLayer(n_input=128, n_output=64, activation='relu'),\n",
    "        FCLayer(n_input=64, n_output=32, activation='relu'),\n",
    "        FCLayer(n_input=32, n_output=10, activation='softmax'),\n",
    "    ]\n",
    ")\n",
    "\n",
    "cnn.train(Xtrain, Ytrain, epochs=25, lr=0.001)"
   ]
  },
  {
   "cell_type": "code",
   "execution_count": 12,
   "metadata": {},
   "outputs": [
    {
     "name": "stdout",
     "output_type": "stream",
     "text": [
      "Test accuracy:  94.444%\n"
     ]
    }
   ],
   "source": [
    "cnn.test(Xtest, Ytest)"
   ]
  }
 ],
 "metadata": {
  "kernelspec": {
   "display_name": "Trabajo",
   "language": "python",
   "name": "python3"
  },
  "language_info": {
   "codemirror_mode": {
    "name": "ipython",
    "version": 3
   },
   "file_extension": ".py",
   "mimetype": "text/x-python",
   "name": "python",
   "nbconvert_exporter": "python",
   "pygments_lexer": "ipython3",
   "version": "3.10.4"
  }
 },
 "nbformat": 4,
 "nbformat_minor": 2
}
