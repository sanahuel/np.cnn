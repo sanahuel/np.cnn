{
 "cells": [
  {
   "cell_type": "markdown",
   "metadata": {},
   "source": [
    "## NN on MNIST"
   ]
  },
  {
   "cell_type": "markdown",
   "metadata": {},
   "source": [
    "## Import data"
   ]
  },
  {
   "cell_type": "code",
   "execution_count": 1,
   "metadata": {},
   "outputs": [],
   "source": [
    "from sklearn.datasets import load_digits\n",
    "from sklearn.model_selection import train_test_split\n",
    "import numpy as np\n",
    "\n",
    "X,Y = load_digits(return_X_y=True)\n",
    "\n",
    "# one hot encoding Y\n",
    "Y_2 = []\n",
    "for idx, y in enumerate(Y):\n",
    "    if y == 0:\n",
    "        Y_2.append(np.array([1,0,0,0,0,0,0,0,0,0]))\n",
    "    elif y == 1:\n",
    "        Y_2.append(np.array([0,1,0,0,0,0,0,0,0,0]))\n",
    "    elif y == 2:\n",
    "        Y_2.append(np.array([0,0,1,0,0,0,0,0,0,0]))\n",
    "    elif y == 3:\n",
    "        Y_2.append(np.array([0,0,0,1,0,0,0,0,0,0]))\n",
    "    elif y == 4:\n",
    "        Y_2.append(np.array([0,0,0,0,1,0,0,0,0,0]))\n",
    "    elif y == 5:\n",
    "        Y_2.append(np.array([0,0,0,0,0,1,0,0,0,0]))\n",
    "    elif y == 6:\n",
    "        Y_2.append(np.array([0,0,0,0,0,0,1,0,0,0]))\n",
    "    elif y == 7:\n",
    "        Y_2.append(np.array([0,0,0,0,0,0,0,1,0,0]))\n",
    "    elif y == 8:\n",
    "        Y_2.append(np.array([0,0,0,0,0,0,0,0,1,0]))\n",
    "    elif y == 9:\n",
    "        Y_2.append(np.array([0,0,0,0,0,0,0,0,0,1]))\n",
    "\n",
    "\n",
    "# reshape to np arrays\n",
    "X = np.reshape(X,(len(X),64,1))\n",
    "Y = np.reshape(Y_2,(len(Y_2),10,1))\n",
    "\n",
    "Xtrain, Xtest, Ytrain, Ytest = train_test_split(X,Y, test_size=0.2)"
   ]
  },
  {
   "cell_type": "markdown",
   "metadata": {},
   "source": [
    "## Train"
   ]
  },
  {
   "cell_type": "code",
   "execution_count": 5,
   "metadata": {},
   "outputs": [
    {
     "name": "stdout",
     "output_type": "stream",
     "text": [
      "Training for 50 epochs...\n",
      "Epoch 0 accuracy:  19.763%\n",
      "Epoch 1 accuracy:  26.722%\n",
      "Epoch 2 accuracy:  34.168%\n",
      "Epoch 3 accuracy:  40.849%\n",
      "Epoch 4 accuracy:  46.555%\n",
      "Epoch 5 accuracy:  50.104%\n",
      "Epoch 6 accuracy:  53.653%\n",
      "Epoch 7 accuracy:  56.715%\n",
      "Epoch 8 accuracy:  58.594%\n",
      "Epoch 9 accuracy:  61.239%\n",
      "Epoch 10 accuracy:  63.674%\n",
      "Epoch 11 accuracy:  66.806%\n",
      "Epoch 12 accuracy:  69.172%\n",
      "Epoch 13 accuracy:  70.633%\n",
      "Epoch 14 accuracy:  72.651%\n",
      "Epoch 15 accuracy:  74.113%\n",
      "Epoch 16 accuracy:  75.087%\n",
      "Epoch 17 accuracy:  75.922%\n",
      "Epoch 18 accuracy:  76.757%\n",
      "Epoch 19 accuracy:  77.523%\n",
      "Epoch 20 accuracy:  78.219%\n",
      "Epoch 21 accuracy:  78.566%\n",
      "Epoch 22 accuracy:  79.332%\n",
      "Epoch 23 accuracy:  79.471%\n",
      "Epoch 24 accuracy:  80.167%\n",
      "Epoch 25 accuracy:  81.072%\n",
      "Epoch 26 accuracy:  83.994%\n",
      "Epoch 27 accuracy:  87.613%\n",
      "Epoch 28 accuracy:  88.935%\n",
      "Epoch 29 accuracy:  89.631%\n",
      "Epoch 30 accuracy:  90.327%\n",
      "Epoch 31 accuracy:  91.093%\n",
      "Epoch 32 accuracy:  91.441%\n",
      "Epoch 33 accuracy:  91.580%\n",
      "Epoch 34 accuracy:  91.928%\n",
      "Epoch 35 accuracy:  92.415%\n",
      "Epoch 36 accuracy:  92.415%\n",
      "Epoch 37 accuracy:  93.041%\n",
      "Epoch 38 accuracy:  93.319%\n",
      "Epoch 39 accuracy:  93.459%\n",
      "Epoch 40 accuracy:  93.737%\n",
      "Epoch 41 accuracy:  93.876%\n",
      "Epoch 42 accuracy:  94.085%\n",
      "Epoch 43 accuracy:  94.224%\n",
      "Epoch 44 accuracy:  94.502%\n",
      "Epoch 45 accuracy:  94.642%\n",
      "Epoch 46 accuracy:  94.781%\n",
      "Epoch 47 accuracy:  94.850%\n",
      "Epoch 48 accuracy:  94.920%\n",
      "Epoch 49 accuracy:  95.059%\n"
     ]
    }
   ],
   "source": [
    "from cnn.model import NN\n",
    "\n",
    "nn = NN(layers=[64, 128, 64, 32, 10], function='relu')\n",
    "nn.train(Xtrain, Ytrain, epochs=50, lr=0.0001)"
   ]
  },
  {
   "cell_type": "code",
   "execution_count": 8,
   "metadata": {},
   "outputs": [
    {
     "data": {
      "image/png": "[encoded data removed]",
      "text/plain": [
       "<Figure size 432x288 with 1 Axes>"
      ]
     },
     "metadata": {
      "needs_background": "light"
     },
     "output_type": "display_data"
    },
    {
     "name": "stdout",
     "output_type": "stream",
     "text": [
      "[[0]\n",
      " [0]\n",
      " [0]\n",
      " [0]\n",
      " [0]\n",
      " [1]\n",
      " [0]\n",
      " [0]\n",
      " [0]\n",
      " [0]]\n",
      "[[2.76032615e-04]\n",
      " [2.37771168e-03]\n",
      " [2.54061238e-03]\n",
      " [6.70617424e-03]\n",
      " [7.27810883e-03]\n",
      " [9.78872105e-01]\n",
      " [1.60974345e-04]\n",
      " [9.86104989e-04]\n",
      " [2.49163797e-04]\n",
      " [5.53011825e-04]]\n"
     ]
    }
   ],
   "source": [
    "# Visualize one mnist input\n",
    "import matplotlib.pyplot as plt\n",
    "import random\n",
    "\n",
    "num = random.randint(0, len(Xtest))\n",
    "x = Xtest[num]\n",
    "plt.imshow(x.reshape(8,8), cmap='gray')\n",
    "plt.show()\n",
    "\n",
    "\n",
    "y = nn.test(Xtest[num])\n",
    "print(Ytest[num])\n",
    "print(y)\n"
   ]
  }
 ],
 "metadata": {
  "kernelspec": {
   "display_name": "Trabajo",
   "language": "python",
   "name": "python3"
  },
  "language_info": {
   "codemirror_mode": {
    "name": "ipython",
    "version": 3
   },
   "file_extension": ".py",
   "mimetype": "text/x-python",
   "name": "python",
   "nbconvert_exporter": "python",
   "pygments_lexer": "ipython3",
   "version": "3.10.4"
  }
 },
 "nbformat": 4,
 "nbformat_minor": 2
}
